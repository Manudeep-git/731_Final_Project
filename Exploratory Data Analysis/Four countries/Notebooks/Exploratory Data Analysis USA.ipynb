{
 "cells": [
  {
   "cell_type": "markdown",
   "metadata": {},
   "source": [
    "# US data EDA"
   ]
  },
  {
   "cell_type": "markdown",
   "metadata": {},
   "source": [
    "# Step 1: Setup environment\n",
    "- Import all required Libraries"
   ]
  },
  {
   "cell_type": "code",
   "execution_count": 37,
   "metadata": {},
   "outputs": [],
   "source": [
    "import pandas as pd\n",
    "import numpy as np\n",
    "import seaborn as sns\n",
    "\n",
    "import matplotlib.pyplot as plt\n",
    "import warnings\n",
    "warnings.filterwarnings(\"ignore\")\n",
    "\n",
    "%matplotlib inline"
   ]
  },
  {
   "cell_type": "markdown",
   "metadata": {},
   "source": [
    "### Import US data"
   ]
  },
  {
   "cell_type": "code",
   "execution_count": 60,
   "metadata": {},
   "outputs": [
    {
     "data": {
      "text/html": [
       "<div>\n",
       "<style scoped>\n",
       "    .dataframe tbody tr th:only-of-type {\n",
       "        vertical-align: middle;\n",
       "    }\n",
       "\n",
       "    .dataframe tbody tr th {\n",
       "        vertical-align: top;\n",
       "    }\n",
       "\n",
       "    .dataframe thead th {\n",
       "        text-align: right;\n",
       "    }\n",
       "</style>\n",
       "<table border=\"1\" class=\"dataframe\">\n",
       "  <thead>\n",
       "    <tr style=\"text-align: right;\">\n",
       "      <th></th>\n",
       "      <th>Name</th>\n",
       "      <th>Date time</th>\n",
       "      <th>Maximum Temperature</th>\n",
       "      <th>Minimum Temperature</th>\n",
       "      <th>Temperature</th>\n",
       "      <th>Wind Chill</th>\n",
       "      <th>Heat Index</th>\n",
       "      <th>Precipitation</th>\n",
       "      <th>Snow Depth</th>\n",
       "      <th>Wind Speed</th>\n",
       "      <th>Wind Gust</th>\n",
       "      <th>Visibility</th>\n",
       "      <th>Cloud Cover</th>\n",
       "      <th>Relative Humidity</th>\n",
       "      <th>Conditions</th>\n",
       "    </tr>\n",
       "  </thead>\n",
       "  <tbody>\n",
       "    <tr>\n",
       "      <th>0</th>\n",
       "      <td>United States</td>\n",
       "      <td>01/01/1970</td>\n",
       "      <td>35.0</td>\n",
       "      <td>28.1</td>\n",
       "      <td>32.0</td>\n",
       "      <td>20.9</td>\n",
       "      <td>NaN</td>\n",
       "      <td>0.00</td>\n",
       "      <td>NaN</td>\n",
       "      <td>13.9</td>\n",
       "      <td>NaN</td>\n",
       "      <td>12.8</td>\n",
       "      <td>77.9</td>\n",
       "      <td>61.54</td>\n",
       "      <td>Overcast</td>\n",
       "    </tr>\n",
       "    <tr>\n",
       "      <th>1</th>\n",
       "      <td>United States</td>\n",
       "      <td>01/02/1970</td>\n",
       "      <td>41.1</td>\n",
       "      <td>25.1</td>\n",
       "      <td>33.2</td>\n",
       "      <td>18.1</td>\n",
       "      <td>NaN</td>\n",
       "      <td>0.00</td>\n",
       "      <td>NaN</td>\n",
       "      <td>17.2</td>\n",
       "      <td>NaN</td>\n",
       "      <td>10.0</td>\n",
       "      <td>37.5</td>\n",
       "      <td>59.52</td>\n",
       "      <td>Partially cloudy</td>\n",
       "    </tr>\n",
       "    <tr>\n",
       "      <th>2</th>\n",
       "      <td>United States</td>\n",
       "      <td>01/03/1970</td>\n",
       "      <td>38.0</td>\n",
       "      <td>26.9</td>\n",
       "      <td>33.6</td>\n",
       "      <td>15.5</td>\n",
       "      <td>NaN</td>\n",
       "      <td>0.05</td>\n",
       "      <td>NaN</td>\n",
       "      <td>17.2</td>\n",
       "      <td>NaN</td>\n",
       "      <td>10.5</td>\n",
       "      <td>73.3</td>\n",
       "      <td>67.34</td>\n",
       "      <td>Rain, Partially cloudy</td>\n",
       "    </tr>\n",
       "    <tr>\n",
       "      <th>3</th>\n",
       "      <td>United States</td>\n",
       "      <td>01/04/1970</td>\n",
       "      <td>33.2</td>\n",
       "      <td>21.8</td>\n",
       "      <td>27.0</td>\n",
       "      <td>10.9</td>\n",
       "      <td>NaN</td>\n",
       "      <td>0.00</td>\n",
       "      <td>NaN</td>\n",
       "      <td>17.2</td>\n",
       "      <td>NaN</td>\n",
       "      <td>9.5</td>\n",
       "      <td>0.0</td>\n",
       "      <td>51.89</td>\n",
       "      <td>Clear</td>\n",
       "    </tr>\n",
       "    <tr>\n",
       "      <th>4</th>\n",
       "      <td>United States</td>\n",
       "      <td>01/05/1970</td>\n",
       "      <td>44.0</td>\n",
       "      <td>20.0</td>\n",
       "      <td>30.2</td>\n",
       "      <td>11.1</td>\n",
       "      <td>NaN</td>\n",
       "      <td>0.00</td>\n",
       "      <td>NaN</td>\n",
       "      <td>15.0</td>\n",
       "      <td>NaN</td>\n",
       "      <td>9.3</td>\n",
       "      <td>47.1</td>\n",
       "      <td>65.60</td>\n",
       "      <td>Partially cloudy</td>\n",
       "    </tr>\n",
       "  </tbody>\n",
       "</table>\n",
       "</div>"
      ],
      "text/plain": [
       "            Name   Date time  Maximum Temperature  Minimum Temperature  \\\n",
       "0  United States  01/01/1970                 35.0                 28.1   \n",
       "1  United States  01/02/1970                 41.1                 25.1   \n",
       "2  United States  01/03/1970                 38.0                 26.9   \n",
       "3  United States  01/04/1970                 33.2                 21.8   \n",
       "4  United States  01/05/1970                 44.0                 20.0   \n",
       "\n",
       "   Temperature  Wind Chill  Heat Index  Precipitation  Snow Depth  Wind Speed  \\\n",
       "0         32.0        20.9         NaN           0.00         NaN        13.9   \n",
       "1         33.2        18.1         NaN           0.00         NaN        17.2   \n",
       "2         33.6        15.5         NaN           0.05         NaN        17.2   \n",
       "3         27.0        10.9         NaN           0.00         NaN        17.2   \n",
       "4         30.2        11.1         NaN           0.00         NaN        15.0   \n",
       "\n",
       "   Wind Gust  Visibility  Cloud Cover  Relative Humidity  \\\n",
       "0        NaN        12.8         77.9              61.54   \n",
       "1        NaN        10.0         37.5              59.52   \n",
       "2        NaN        10.5         73.3              67.34   \n",
       "3        NaN         9.5          0.0              51.89   \n",
       "4        NaN         9.3         47.1              65.60   \n",
       "\n",
       "               Conditions  \n",
       "0                Overcast  \n",
       "1        Partially cloudy  \n",
       "2  Rain, Partially cloudy  \n",
       "3                   Clear  \n",
       "4        Partially cloudy  "
      ]
     },
     "execution_count": 60,
     "metadata": {},
     "output_type": "execute_result"
    }
   ],
   "source": [
    "usdata=pd.read_csv(\"https://raw.githubusercontent.com/Manudeep-git/731_Final_Project/main/Contries_Data/Usa_history_data.csv\")\n",
    "df_temp=usdata\n",
    "usdata.head(5)"
   ]
  },
  {
   "cell_type": "markdown",
   "metadata": {},
   "source": [
    "### Let's change column names and datatype of date feature"
   ]
  },
  {
   "cell_type": "code",
   "execution_count": 12,
   "metadata": {},
   "outputs": [
    {
     "data": {
      "text/html": [
       "<div>\n",
       "<style scoped>\n",
       "    .dataframe tbody tr th:only-of-type {\n",
       "        vertical-align: middle;\n",
       "    }\n",
       "\n",
       "    .dataframe tbody tr th {\n",
       "        vertical-align: top;\n",
       "    }\n",
       "\n",
       "    .dataframe thead th {\n",
       "        text-align: right;\n",
       "    }\n",
       "</style>\n",
       "<table border=\"1\" class=\"dataframe\">\n",
       "  <thead>\n",
       "    <tr style=\"text-align: right;\">\n",
       "      <th></th>\n",
       "      <th>Name</th>\n",
       "      <th>time</th>\n",
       "      <th>maxTemp</th>\n",
       "      <th>minTemp</th>\n",
       "      <th>temp</th>\n",
       "      <th>windChill</th>\n",
       "      <th>heatIndex</th>\n",
       "      <th>Precipitation</th>\n",
       "      <th>snowDepth</th>\n",
       "      <th>windSpeed</th>\n",
       "      <th>windGust</th>\n",
       "      <th>Visibility</th>\n",
       "      <th>cloudCover</th>\n",
       "      <th>relHumidity</th>\n",
       "      <th>Conditions</th>\n",
       "    </tr>\n",
       "  </thead>\n",
       "  <tbody>\n",
       "    <tr>\n",
       "      <th>0</th>\n",
       "      <td>United States</td>\n",
       "      <td>1970-01-01</td>\n",
       "      <td>35.0</td>\n",
       "      <td>28.1</td>\n",
       "      <td>32.0</td>\n",
       "      <td>20.9</td>\n",
       "      <td>NaN</td>\n",
       "      <td>0.00</td>\n",
       "      <td>NaN</td>\n",
       "      <td>13.9</td>\n",
       "      <td>NaN</td>\n",
       "      <td>12.8</td>\n",
       "      <td>77.9</td>\n",
       "      <td>61.54</td>\n",
       "      <td>Overcast</td>\n",
       "    </tr>\n",
       "    <tr>\n",
       "      <th>1</th>\n",
       "      <td>United States</td>\n",
       "      <td>1970-01-02</td>\n",
       "      <td>41.1</td>\n",
       "      <td>25.1</td>\n",
       "      <td>33.2</td>\n",
       "      <td>18.1</td>\n",
       "      <td>NaN</td>\n",
       "      <td>0.00</td>\n",
       "      <td>NaN</td>\n",
       "      <td>17.2</td>\n",
       "      <td>NaN</td>\n",
       "      <td>10.0</td>\n",
       "      <td>37.5</td>\n",
       "      <td>59.52</td>\n",
       "      <td>Partially cloudy</td>\n",
       "    </tr>\n",
       "    <tr>\n",
       "      <th>2</th>\n",
       "      <td>United States</td>\n",
       "      <td>1970-01-03</td>\n",
       "      <td>38.0</td>\n",
       "      <td>26.9</td>\n",
       "      <td>33.6</td>\n",
       "      <td>15.5</td>\n",
       "      <td>NaN</td>\n",
       "      <td>0.05</td>\n",
       "      <td>NaN</td>\n",
       "      <td>17.2</td>\n",
       "      <td>NaN</td>\n",
       "      <td>10.5</td>\n",
       "      <td>73.3</td>\n",
       "      <td>67.34</td>\n",
       "      <td>Rain, Partially cloudy</td>\n",
       "    </tr>\n",
       "    <tr>\n",
       "      <th>3</th>\n",
       "      <td>United States</td>\n",
       "      <td>1970-01-04</td>\n",
       "      <td>33.2</td>\n",
       "      <td>21.8</td>\n",
       "      <td>27.0</td>\n",
       "      <td>10.9</td>\n",
       "      <td>NaN</td>\n",
       "      <td>0.00</td>\n",
       "      <td>NaN</td>\n",
       "      <td>17.2</td>\n",
       "      <td>NaN</td>\n",
       "      <td>9.5</td>\n",
       "      <td>0.0</td>\n",
       "      <td>51.89</td>\n",
       "      <td>Clear</td>\n",
       "    </tr>\n",
       "    <tr>\n",
       "      <th>4</th>\n",
       "      <td>United States</td>\n",
       "      <td>1970-01-05</td>\n",
       "      <td>44.0</td>\n",
       "      <td>20.0</td>\n",
       "      <td>30.2</td>\n",
       "      <td>11.1</td>\n",
       "      <td>NaN</td>\n",
       "      <td>0.00</td>\n",
       "      <td>NaN</td>\n",
       "      <td>15.0</td>\n",
       "      <td>NaN</td>\n",
       "      <td>9.3</td>\n",
       "      <td>47.1</td>\n",
       "      <td>65.60</td>\n",
       "      <td>Partially cloudy</td>\n",
       "    </tr>\n",
       "  </tbody>\n",
       "</table>\n",
       "</div>"
      ],
      "text/plain": [
       "            Name       time  maxTemp  minTemp  temp  windChill  heatIndex  \\\n",
       "0  United States 1970-01-01     35.0     28.1  32.0       20.9        NaN   \n",
       "1  United States 1970-01-02     41.1     25.1  33.2       18.1        NaN   \n",
       "2  United States 1970-01-03     38.0     26.9  33.6       15.5        NaN   \n",
       "3  United States 1970-01-04     33.2     21.8  27.0       10.9        NaN   \n",
       "4  United States 1970-01-05     44.0     20.0  30.2       11.1        NaN   \n",
       "\n",
       "   Precipitation  snowDepth  windSpeed  windGust  Visibility  cloudCover  \\\n",
       "0           0.00        NaN       13.9       NaN        12.8        77.9   \n",
       "1           0.00        NaN       17.2       NaN        10.0        37.5   \n",
       "2           0.05        NaN       17.2       NaN        10.5        73.3   \n",
       "3           0.00        NaN       17.2       NaN         9.5         0.0   \n",
       "4           0.00        NaN       15.0       NaN         9.3        47.1   \n",
       "\n",
       "   relHumidity              Conditions  \n",
       "0        61.54                Overcast  \n",
       "1        59.52        Partially cloudy  \n",
       "2        67.34  Rain, Partially cloudy  \n",
       "3        51.89                   Clear  \n",
       "4        65.60        Partially cloudy  "
      ]
     },
     "execution_count": 12,
     "metadata": {},
     "output_type": "execute_result"
    }
   ],
   "source": [
    "usdata.rename(columns = {'Date time':'time','Maximum Temperature':'maxTemp','Minimum Temperature':'minTemp',\n",
    "                         'Temperature':'temp','Wind Chill':'windChill','Heat Index':'heatIndex',\n",
    "                          'Snow Depth':'snowDepth','Wind Speed':'windSpeed','Wind Gust':'windGust',\n",
    "                          'Cloud Cover':'cloudCover','Relative Humidity':'relHumidity'\n",
    "                         }, inplace=True)\n",
    "usdata[\"time\"]=pd.to_datetime(usdata.time)\n",
    "usdata.head()"
   ]
  },
  {
   "cell_type": "markdown",
   "metadata": {},
   "source": [
    "### Now let us check feature names"
   ]
  },
  {
   "cell_type": "code",
   "execution_count": 9,
   "metadata": {},
   "outputs": [
    {
     "data": {
      "text/plain": [
       "Index(['Name', 'time', 'maxTemp', 'minTemp', 'temp', 'windChill', 'heatIndex',\n",
       "       'Precipitation', 'snowDepth', 'windSpeed', 'windGust', 'Visibility',\n",
       "       'cloudCover', 'relHumidity', 'Conditions'],\n",
       "      dtype='object')"
      ]
     },
     "execution_count": 9,
     "metadata": {},
     "output_type": "execute_result"
    }
   ],
   "source": [
    "usdata.columns"
   ]
  },
  {
   "cell_type": "markdown",
   "metadata": {},
   "source": [
    "### Let us see how many samples we have here"
   ]
  },
  {
   "cell_type": "code",
   "execution_count": 13,
   "metadata": {},
   "outputs": [
    {
     "data": {
      "text/plain": [
       "(18545, 15)"
      ]
     },
     "execution_count": 13,
     "metadata": {},
     "output_type": "execute_result"
    }
   ],
   "source": [
    "usdata.shape"
   ]
  },
  {
   "cell_type": "markdown",
   "metadata": {},
   "source": [
    "- 18545 samples is good for modelling\n",
    "### Let us make sure we have all datatypes correct for all features"
   ]
  },
  {
   "cell_type": "code",
   "execution_count": 14,
   "metadata": {},
   "outputs": [
    {
     "data": {
      "text/plain": [
       "Name                     object\n",
       "time             datetime64[ns]\n",
       "maxTemp                 float64\n",
       "minTemp                 float64\n",
       "temp                    float64\n",
       "windChill               float64\n",
       "heatIndex               float64\n",
       "Precipitation           float64\n",
       "snowDepth               float64\n",
       "windSpeed               float64\n",
       "windGust                float64\n",
       "Visibility              float64\n",
       "cloudCover              float64\n",
       "relHumidity             float64\n",
       "Conditions               object\n",
       "dtype: object"
      ]
     },
     "execution_count": 14,
     "metadata": {},
     "output_type": "execute_result"
    }
   ],
   "source": [
    "usdata.dtypes"
   ]
  },
  {
   "cell_type": "markdown",
   "metadata": {},
   "source": [
    "### Let us check for missing data"
   ]
  },
  {
   "cell_type": "code",
   "execution_count": 15,
   "metadata": {},
   "outputs": [
    {
     "data": {
      "text/plain": [
       "Name                 0\n",
       "time                 0\n",
       "maxTemp              0\n",
       "minTemp              0\n",
       "temp                 0\n",
       "windChill         9784\n",
       "heatIndex        13239\n",
       "Precipitation        0\n",
       "snowDepth        16653\n",
       "windSpeed            0\n",
       "windGust         16022\n",
       "Visibility           0\n",
       "cloudCover           0\n",
       "relHumidity          0\n",
       "Conditions           0\n",
       "dtype: int64"
      ]
     },
     "execution_count": 15,
     "metadata": {},
     "output_type": "execute_result"
    }
   ],
   "source": [
    "usdata.isnull().sum()"
   ]
  },
  {
   "cell_type": "code",
   "execution_count": 20,
   "metadata": {},
   "outputs": [
    {
     "data": {
      "text/plain": [
       "<matplotlib.axes._subplots.AxesSubplot at 0x181eb95f308>"
      ]
     },
     "execution_count": 20,
     "metadata": {},
     "output_type": "execute_result"
    },
    {
     "data": {
      "image/png": "[encoded data removed]",
      "text/plain": [
       "<Figure size 720x360 with 1 Axes>"
      ]
     },
     "metadata": {
      "needs_background": "light"
     },
     "output_type": "display_data"
    }
   ],
   "source": [
    "plt.figure(figsize=(10,5))\n",
    "sns.heatmap(usdata.isnull(),yticklabels=False,cbar=False)"
   ]
  },
  {
   "cell_type": "markdown",
   "metadata": {},
   "source": [
    "### Now we remove these features with incomplete data"
   ]
  },
  {
   "cell_type": "code",
   "execution_count": 23,
   "metadata": {},
   "outputs": [],
   "source": [
    "usdata.drop(columns=['snowDepth','heatIndex','windGust','windChill'],inplace=True)"
   ]
  },
  {
   "cell_type": "code",
   "execution_count": 24,
   "metadata": {},
   "outputs": [
    {
     "data": {
      "text/html": [
       "<div>\n",
       "<style scoped>\n",
       "    .dataframe tbody tr th:only-of-type {\n",
       "        vertical-align: middle;\n",
       "    }\n",
       "\n",
       "    .dataframe tbody tr th {\n",
       "        vertical-align: top;\n",
       "    }\n",
       "\n",
       "    .dataframe thead th {\n",
       "        text-align: right;\n",
       "    }\n",
       "</style>\n",
       "<table border=\"1\" class=\"dataframe\">\n",
       "  <thead>\n",
       "    <tr style=\"text-align: right;\">\n",
       "      <th></th>\n",
       "      <th>Name</th>\n",
       "      <th>time</th>\n",
       "      <th>maxTemp</th>\n",
       "      <th>minTemp</th>\n",
       "      <th>temp</th>\n",
       "      <th>Precipitation</th>\n",
       "      <th>windSpeed</th>\n",
       "      <th>Visibility</th>\n",
       "      <th>cloudCover</th>\n",
       "      <th>relHumidity</th>\n",
       "      <th>Conditions</th>\n",
       "    </tr>\n",
       "  </thead>\n",
       "  <tbody>\n",
       "    <tr>\n",
       "      <th>0</th>\n",
       "      <td>United States</td>\n",
       "      <td>1970-01-01</td>\n",
       "      <td>35.0</td>\n",
       "      <td>28.1</td>\n",
       "      <td>32.0</td>\n",
       "      <td>0.00</td>\n",
       "      <td>13.9</td>\n",
       "      <td>12.8</td>\n",
       "      <td>77.9</td>\n",
       "      <td>61.54</td>\n",
       "      <td>Overcast</td>\n",
       "    </tr>\n",
       "    <tr>\n",
       "      <th>1</th>\n",
       "      <td>United States</td>\n",
       "      <td>1970-01-02</td>\n",
       "      <td>41.1</td>\n",
       "      <td>25.1</td>\n",
       "      <td>33.2</td>\n",
       "      <td>0.00</td>\n",
       "      <td>17.2</td>\n",
       "      <td>10.0</td>\n",
       "      <td>37.5</td>\n",
       "      <td>59.52</td>\n",
       "      <td>Partially cloudy</td>\n",
       "    </tr>\n",
       "    <tr>\n",
       "      <th>2</th>\n",
       "      <td>United States</td>\n",
       "      <td>1970-01-03</td>\n",
       "      <td>38.0</td>\n",
       "      <td>26.9</td>\n",
       "      <td>33.6</td>\n",
       "      <td>0.05</td>\n",
       "      <td>17.2</td>\n",
       "      <td>10.5</td>\n",
       "      <td>73.3</td>\n",
       "      <td>67.34</td>\n",
       "      <td>Rain, Partially cloudy</td>\n",
       "    </tr>\n",
       "    <tr>\n",
       "      <th>3</th>\n",
       "      <td>United States</td>\n",
       "      <td>1970-01-04</td>\n",
       "      <td>33.2</td>\n",
       "      <td>21.8</td>\n",
       "      <td>27.0</td>\n",
       "      <td>0.00</td>\n",
       "      <td>17.2</td>\n",
       "      <td>9.5</td>\n",
       "      <td>0.0</td>\n",
       "      <td>51.89</td>\n",
       "      <td>Clear</td>\n",
       "    </tr>\n",
       "    <tr>\n",
       "      <th>4</th>\n",
       "      <td>United States</td>\n",
       "      <td>1970-01-05</td>\n",
       "      <td>44.0</td>\n",
       "      <td>20.0</td>\n",
       "      <td>30.2</td>\n",
       "      <td>0.00</td>\n",
       "      <td>15.0</td>\n",
       "      <td>9.3</td>\n",
       "      <td>47.1</td>\n",
       "      <td>65.60</td>\n",
       "      <td>Partially cloudy</td>\n",
       "    </tr>\n",
       "  </tbody>\n",
       "</table>\n",
       "</div>"
      ],
      "text/plain": [
       "            Name       time  maxTemp  minTemp  temp  Precipitation  windSpeed  \\\n",
       "0  United States 1970-01-01     35.0     28.1  32.0           0.00       13.9   \n",
       "1  United States 1970-01-02     41.1     25.1  33.2           0.00       17.2   \n",
       "2  United States 1970-01-03     38.0     26.9  33.6           0.05       17.2   \n",
       "3  United States 1970-01-04     33.2     21.8  27.0           0.00       17.2   \n",
       "4  United States 1970-01-05     44.0     20.0  30.2           0.00       15.0   \n",
       "\n",
       "   Visibility  cloudCover  relHumidity              Conditions  \n",
       "0        12.8        77.9        61.54                Overcast  \n",
       "1        10.0        37.5        59.52        Partially cloudy  \n",
       "2        10.5        73.3        67.34  Rain, Partially cloudy  \n",
       "3         9.5         0.0        51.89                   Clear  \n",
       "4         9.3        47.1        65.60        Partially cloudy  "
      ]
     },
     "execution_count": 24,
     "metadata": {},
     "output_type": "execute_result"
    }
   ],
   "source": [
    "usdata.head()"
   ]
  },
  {
   "cell_type": "code",
   "execution_count": 30,
   "metadata": {},
   "outputs": [
    {
     "data": {
      "text/plain": [
       "<bound method NDFrame.describe of                 Name       time  maxTemp  minTemp  temp  Precipitation  \\\n",
       "0      United States 1970-01-01     35.0     28.1  32.0           0.00   \n",
       "1      United States 1970-01-02     41.1     25.1  33.2           0.00   \n",
       "2      United States 1970-01-03     38.0     26.9  33.6           0.05   \n",
       "3      United States 1970-01-04     33.2     21.8  27.0           0.00   \n",
       "4      United States 1970-01-05     44.0     20.0  30.2           0.00   \n",
       "...              ...        ...      ...      ...   ...            ...   \n",
       "18540  United States 2020-10-28     69.7     61.6  65.3           0.00   \n",
       "18541  United States 2020-10-29     63.5     52.9  58.3           2.25   \n",
       "18542  United States 2020-10-30     53.8     48.6  50.9           0.31   \n",
       "18543  United States 2020-10-31     49.6     40.5  46.6           0.00   \n",
       "18544  United States 2020-11-01     58.6     41.9  51.5           0.51   \n",
       "\n",
       "       windSpeed  Visibility  cloudCover  relHumidity              Conditions  \n",
       "0           13.9        12.8        77.9        61.54                Overcast  \n",
       "1           17.2        10.0        37.5        59.52        Partially cloudy  \n",
       "2           17.2        10.5        73.3        67.34  Rain, Partially cloudy  \n",
       "3           17.2         9.5         0.0        51.89                   Clear  \n",
       "4           15.0         9.3        47.1        65.60        Partially cloudy  \n",
       "...          ...         ...         ...          ...                     ...  \n",
       "18540       11.9         8.6        42.1        87.16        Partially cloudy  \n",
       "18541       16.4         6.4        57.1        91.80  Rain, Partially cloudy  \n",
       "18542       20.5         9.7        89.3        76.92          Rain, Overcast  \n",
       "18543       14.3         9.9        86.7        69.44                Overcast  \n",
       "18544       26.1         9.3        87.1        73.21          Rain, Overcast  \n",
       "\n",
       "[18545 rows x 11 columns]>"
      ]
     },
     "execution_count": 30,
     "metadata": {},
     "output_type": "execute_result"
    }
   ],
   "source": [
    "usdata.describe"
   ]
  },
  {
   "cell_type": "markdown",
   "metadata": {},
   "source": [
    "### lets check for data distribution of temperature feature"
   ]
  },
  {
   "cell_type": "code",
   "execution_count": 33,
   "metadata": {},
   "outputs": [
    {
     "data": {
      "text/plain": [
       "<matplotlib.axes._subplots.AxesSubplot at 0x181ebc72608>"
      ]
     },
     "execution_count": 33,
     "metadata": {},
     "output_type": "execute_result"
    },
    {
     "data": {
      "image/png": "[encoded data removed]",
      "text/plain": [
       "<Figure size 432x288 with 1 Axes>"
      ]
     },
     "metadata": {
      "needs_background": "light"
     },
     "output_type": "display_data"
    }
   ],
   "source": [
    "usdata.boxplot(column=['temp'])"
   ]
  },
  {
   "cell_type": "markdown",
   "metadata": {},
   "source": [
    "### lets check for data distribution of Precipitation feature"
   ]
  },
  {
   "cell_type": "code",
   "execution_count": 34,
   "metadata": {},
   "outputs": [
    {
     "data": {
      "text/plain": [
       "<matplotlib.axes._subplots.AxesSubplot at 0x181eea05c48>"
      ]
     },
     "execution_count": 34,
     "metadata": {},
     "output_type": "execute_result"
    },
    {
     "data": {
      "image/png": "[encoded data removed]",
      "text/plain": [
       "<Figure size 432x288 with 1 Axes>"
      ]
     },
     "metadata": {
      "needs_background": "light"
     },
     "output_type": "display_data"
    }
   ],
   "source": [
    "usdata.boxplot(column=['Precipitation'])"
   ]
  },
  {
   "cell_type": "code",
   "execution_count": 42,
   "metadata": {},
   "outputs": [
    {
     "data": {
      "text/plain": [
       "(array([  10.,  118.,  630., 1942., 3039., 2823., 2768., 3176., 3595.,\n",
       "         444.]),\n",
       " array([ 2.2 , 11.32, 20.44, 29.56, 38.68, 47.8 , 56.92, 66.04, 75.16,\n",
       "        84.28, 93.4 ]),\n",
       " <a list of 10 Patch objects>)"
      ]
     },
     "execution_count": 42,
     "metadata": {},
     "output_type": "execute_result"
    },
    {
     "data": {
      "image/png": "[encoded data removed]",
      "text/plain": [
       "<Figure size 432x288 with 1 Axes>"
      ]
     },
     "metadata": {
      "needs_background": "light"
     },
     "output_type": "display_data"
    }
   ],
   "source": [
    "plt.hist(usdata['temp'])"
   ]
  },
  {
   "cell_type": "code",
   "execution_count": 43,
   "metadata": {},
   "outputs": [
    {
     "data": {
      "text/plain": [
       "(array([ 997., 1768., 1591., 1347., 1446., 1656., 1861., 1996., 1977.,\n",
       "        3906.]),\n",
       " array([  0.,  10.,  20.,  30.,  40.,  50.,  60.,  70.,  80.,  90., 100.]),\n",
       " <a list of 10 Patch objects>)"
      ]
     },
     "execution_count": 43,
     "metadata": {},
     "output_type": "execute_result"
    },
    {
     "data": {
      "image/png": "[encoded data removed]",
      "text/plain": [
       "<Figure size 432x288 with 1 Axes>"
      ]
     },
     "metadata": {
      "needs_background": "light"
     },
     "output_type": "display_data"
    }
   ],
   "source": [
    "plt.hist(usdata['cloudCover'])"
   ]
  },
  {
   "cell_type": "markdown",
   "metadata": {},
   "source": [
    "### Let us check how many samples we have for each for every condition"
   ]
  },
  {
   "cell_type": "code",
   "execution_count": 52,
   "metadata": {},
   "outputs": [
    {
     "data": {
      "text/plain": [
       "Partially cloudy          6386\n",
       "Rain, Overcast            3638\n",
       "Clear                     3080\n",
       "Overcast                  2903\n",
       "Rain, Partially cloudy    1351\n",
       "Rain                       498\n",
       "Snow, Partially cloudy     287\n",
       "Snow, Overcast             270\n",
       "Snow                       132\n",
       "Name: Conditions, dtype: int64"
      ]
     },
     "execution_count": 52,
     "metadata": {},
     "output_type": "execute_result"
    }
   ],
   "source": [
    "usdata['Conditions'].value_counts()"
   ]
  },
  {
   "cell_type": "code",
   "execution_count": 54,
   "metadata": {},
   "outputs": [
    {
     "data": {
      "image/png": "[encoded data removed]",
      "text/plain": [
       "<Figure size 432x288 with 2 Axes>"
      ]
     },
     "metadata": {
      "needs_background": "light"
     },
     "output_type": "display_data"
    }
   ],
   "source": [
    "usdata.plot.hexbin(x='temp',y='windSpeed',gridsize=9,cmap='YlGnBu',sharex=False)\n",
    "plt.show()"
   ]
  },
  {
   "cell_type": "code",
   "execution_count": 61,
   "metadata": {},
   "outputs": [
    {
     "data": {
      "image/png": "[encoded data removed]",
      "text/plain": [
       "<Figure size 720x432 with 1 Axes>"
      ]
     },
     "metadata": {},
     "output_type": "display_data"
    }
   ],
   "source": [
    "# Extract year from each reading\n",
    "df_temp=usdata\n",
    "df_temp ['Year'] = pd.DatetimeIndex (df_temp ['Date time']).year\n",
    "df_temp ['Month'] = pd.DatetimeIndex (df_temp ['Date time']).month\n",
    "df_temp.tail ()\n",
    "\n",
    "#function for getting season based on month\n",
    "def get_season(month):\n",
    "    if month >= 3 and month <= 5:\n",
    "        return 'Spring'\n",
    "    elif month >= 6 and month <= 8:\n",
    "        return 'Summer'\n",
    "    elif month >= 9 and month <= 11:\n",
    "        return 'Autumn'\n",
    "    else:\n",
    "        return 'Winter'\n",
    "    \n",
    "min_year = df_temp['Year'].min()\n",
    "max_year = df_temp['Year'].max()\n",
    "years = range(min_year, max_year + 1)\n",
    "    \n",
    "df_temp['Season'] = df_temp['Month'].apply(get_season)\n",
    "\n",
    "spring_temps = []\n",
    "summer_temps = []\n",
    "autumn_temps = []\n",
    "winter_temps = []\n",
    "\n",
    "for year in years:\n",
    "    years_data = df_temp[df_temp['Year'] == year]\n",
    "    spring_temps.append(years_data[years_data['Season'] == 'Spring']['Temperature'].mean())\n",
    "    summer_temps.append(years_data[years_data['Season'] == 'Summer']['Temperature'].mean())\n",
    "    autumn_temps.append(years_data[years_data['Season'] == 'Autumn']['Temperature'].mean())\n",
    "    winter_temps.append(years_data[years_data['Season'] == 'Winter']['Temperature'].mean())\n",
    "    \n",
    "sns.set(style=\"whitegrid\")\n",
    "sns.set_color_codes(\"pastel\")\n",
    "f, ax = plt.subplots(figsize=(10, 6))\n",
    "\n",
    "plt.plot(years, summer_temps, label='Summers average temperature', color='orange')\n",
    "plt.plot(years, autumn_temps, label='Autumns average temperature', color='r')\n",
    "plt.plot(years, spring_temps, label='Springs average temperature', color='g')\n",
    "plt.plot(years, winter_temps, label='Winters average temperature', color='b')\n",
    "\n",
    "plt.xlim(min_year, max_year)\n",
    "\n",
    "ax.set_ylabel('Average temperature',fontsize = 'x-large', fontweight = 'bold')\n",
    "ax.set_xlabel('Year',fontsize = 'x-large', fontweight = 'bold')\n",
    "ax.set_title('Average temperature in each season across USA',fontsize = 'x-large', fontweight = 'bold')\n",
    "legend = plt.legend(loc='center left', bbox_to_anchor=(1, 0.5), frameon=True, borderpad=1, borderaxespad=1)"
   ]
  },
  {
   "cell_type": "code",
   "execution_count": null,
   "metadata": {},
   "outputs": [],
   "source": []
  }
 ],
 "metadata": {
  "kernelspec": {
   "display_name": "Python 3",
   "language": "python",
   "name": "python3"
  },
  "language_info": {
   "codemirror_mode": {
    "name": "ipython",
    "version": 3
   },
   "file_extension": ".py",
   "mimetype": "text/x-python",
   "name": "python",
   "nbconvert_exporter": "python",
   "pygments_lexer": "ipython3",
   "version": "3.7.6"
  }
 },
 "nbformat": 4,
 "nbformat_minor": 4
}
