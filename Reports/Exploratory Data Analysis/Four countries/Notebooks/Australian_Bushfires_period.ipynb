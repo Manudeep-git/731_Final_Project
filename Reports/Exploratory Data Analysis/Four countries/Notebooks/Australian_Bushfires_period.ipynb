{
 "cells": [
  {
   "cell_type": "markdown",
   "metadata": {},
   "source": [
    "## Preface"
   ]
  },
  {
   "cell_type": "markdown",
   "metadata": {},
   "source": [
    "The Australian bushfire has led to a massive loss to wildlife, forest area and has even caused human casualties, I am trying to \n",
    "analyze Temperatures on dates which bushfires were at peak with Timeline "
   ]
  },
  {
   "cell_type": "code",
   "execution_count": 1,
   "metadata": {},
   "outputs": [],
   "source": [
    "import numpy as np \n",
    "import pandas as pd \n",
    "import matplotlib.pyplot as plt\n",
    "import seaborn as sns\n",
    "import folium\n",
    "from folium import plugins"
   ]
  },
  {
   "cell_type": "code",
   "execution_count": 2,
   "metadata": {},
   "outputs": [
    {
     "name": "stdout",
     "output_type": "stream",
     "text": [
      "C:\\Users\\manudeep\\Desktop\\Fall_2020\\EECS_731\\Project\\731_Final_Project\\Contries_Data\n",
      "Enter the Country: Australia\n"
     ]
    },
    {
     "data": {
      "text/html": [
       "<div>\n",
       "<style scoped>\n",
       "    .dataframe tbody tr th:only-of-type {\n",
       "        vertical-align: middle;\n",
       "    }\n",
       "\n",
       "    .dataframe tbody tr th {\n",
       "        vertical-align: top;\n",
       "    }\n",
       "\n",
       "    .dataframe thead th {\n",
       "        text-align: right;\n",
       "    }\n",
       "</style>\n",
       "<table border=\"1\" class=\"dataframe\">\n",
       "  <thead>\n",
       "    <tr style=\"text-align: right;\">\n",
       "      <th></th>\n",
       "      <th>Name</th>\n",
       "      <th>Date time</th>\n",
       "      <th>Maximum Temperature</th>\n",
       "      <th>Minimum Temperature</th>\n",
       "      <th>Temperature</th>\n",
       "      <th>Wind Chill</th>\n",
       "      <th>Heat Index</th>\n",
       "      <th>Precipitation</th>\n",
       "      <th>Snow Depth</th>\n",
       "      <th>Wind Speed</th>\n",
       "      <th>Wind Gust</th>\n",
       "      <th>Visibility</th>\n",
       "      <th>Cloud Cover</th>\n",
       "      <th>Relative Humidity</th>\n",
       "      <th>Conditions</th>\n",
       "    </tr>\n",
       "  </thead>\n",
       "  <tbody>\n",
       "    <tr>\n",
       "      <th>0</th>\n",
       "      <td>australia</td>\n",
       "      <td>01/01/1970</td>\n",
       "      <td>62.3</td>\n",
       "      <td>55.1</td>\n",
       "      <td>59.9</td>\n",
       "      <td>NaN</td>\n",
       "      <td>NaN</td>\n",
       "      <td>0.0</td>\n",
       "      <td>NaN</td>\n",
       "      <td>19.5</td>\n",
       "      <td>NaN</td>\n",
       "      <td>NaN</td>\n",
       "      <td>97.5</td>\n",
       "      <td>82.74</td>\n",
       "      <td>Overcast</td>\n",
       "    </tr>\n",
       "    <tr>\n",
       "      <th>1</th>\n",
       "      <td>australia</td>\n",
       "      <td>01/02/1970</td>\n",
       "      <td>53.9</td>\n",
       "      <td>50.3</td>\n",
       "      <td>51.9</td>\n",
       "      <td>NaN</td>\n",
       "      <td>NaN</td>\n",
       "      <td>0.0</td>\n",
       "      <td>NaN</td>\n",
       "      <td>18.3</td>\n",
       "      <td>NaN</td>\n",
       "      <td>NaN</td>\n",
       "      <td>93.8</td>\n",
       "      <td>78.11</td>\n",
       "      <td>Overcast</td>\n",
       "    </tr>\n",
       "    <tr>\n",
       "      <th>2</th>\n",
       "      <td>australia</td>\n",
       "      <td>01/03/1970</td>\n",
       "      <td>56.0</td>\n",
       "      <td>48.8</td>\n",
       "      <td>52.3</td>\n",
       "      <td>43.4</td>\n",
       "      <td>NaN</td>\n",
       "      <td>0.0</td>\n",
       "      <td>NaN</td>\n",
       "      <td>15.0</td>\n",
       "      <td>NaN</td>\n",
       "      <td>NaN</td>\n",
       "      <td>100.0</td>\n",
       "      <td>85.87</td>\n",
       "      <td>Overcast</td>\n",
       "    </tr>\n",
       "    <tr>\n",
       "      <th>3</th>\n",
       "      <td>australia</td>\n",
       "      <td>01/04/1970</td>\n",
       "      <td>64.1</td>\n",
       "      <td>51.2</td>\n",
       "      <td>56.3</td>\n",
       "      <td>NaN</td>\n",
       "      <td>NaN</td>\n",
       "      <td>0.0</td>\n",
       "      <td>NaN</td>\n",
       "      <td>16.1</td>\n",
       "      <td>NaN</td>\n",
       "      <td>NaN</td>\n",
       "      <td>91.3</td>\n",
       "      <td>83.15</td>\n",
       "      <td>Overcast</td>\n",
       "    </tr>\n",
       "    <tr>\n",
       "      <th>4</th>\n",
       "      <td>australia</td>\n",
       "      <td>01/05/1970</td>\n",
       "      <td>72.2</td>\n",
       "      <td>50.3</td>\n",
       "      <td>61.4</td>\n",
       "      <td>NaN</td>\n",
       "      <td>NaN</td>\n",
       "      <td>0.0</td>\n",
       "      <td>NaN</td>\n",
       "      <td>11.4</td>\n",
       "      <td>NaN</td>\n",
       "      <td>NaN</td>\n",
       "      <td>75.0</td>\n",
       "      <td>71.98</td>\n",
       "      <td>Partially cloudy</td>\n",
       "    </tr>\n",
       "  </tbody>\n",
       "</table>\n",
       "</div>"
      ],
      "text/plain": [
       "        Name   Date time  Maximum Temperature  Minimum Temperature  \\\n",
       "0  australia  01/01/1970                 62.3                 55.1   \n",
       "1  australia  01/02/1970                 53.9                 50.3   \n",
       "2  australia  01/03/1970                 56.0                 48.8   \n",
       "3  australia  01/04/1970                 64.1                 51.2   \n",
       "4  australia  01/05/1970                 72.2                 50.3   \n",
       "\n",
       "   Temperature  Wind Chill  Heat Index  Precipitation  Snow Depth  Wind Speed  \\\n",
       "0         59.9         NaN         NaN            0.0         NaN        19.5   \n",
       "1         51.9         NaN         NaN            0.0         NaN        18.3   \n",
       "2         52.3        43.4         NaN            0.0         NaN        15.0   \n",
       "3         56.3         NaN         NaN            0.0         NaN        16.1   \n",
       "4         61.4         NaN         NaN            0.0         NaN        11.4   \n",
       "\n",
       "   Wind Gust  Visibility  Cloud Cover  Relative Humidity        Conditions  \n",
       "0        NaN         NaN         97.5              82.74          Overcast  \n",
       "1        NaN         NaN         93.8              78.11          Overcast  \n",
       "2        NaN         NaN        100.0              85.87          Overcast  \n",
       "3        NaN         NaN         91.3              83.15          Overcast  \n",
       "4        NaN         NaN         75.0              71.98  Partially cloudy  "
      ]
     },
     "execution_count": 2,
     "metadata": {},
     "output_type": "execute_result"
    }
   ],
   "source": [
    "import os\n",
    "print(os.getenv(\"Country_path\"))\n",
    "## Please add the Country_path  to your environment variables where CSV files are stored\n",
    "var = input(\"Enter the Country: \")\n",
    "df_aus = pd.read_csv(os.getenv('Country_path') + '\\\\' + var + '_history_data.csv')\n",
    "df_aus.head()"
   ]
  },
  {
   "cell_type": "code",
   "execution_count": 20,
   "metadata": {},
   "outputs": [],
   "source": [
    "#df_aus.dtypes"
   ]
  },
  {
   "cell_type": "code",
   "execution_count": 37,
   "metadata": {},
   "outputs": [],
   "source": [
    "df_aus_filter = df_aus.filter(['Maximum Temperature','Wind Speed','Relative Humidity','Conditions','Date time'])"
   ]
  },
  {
   "cell_type": "code",
   "execution_count": 42,
   "metadata": {},
   "outputs": [],
   "source": [
    "df_aus_filter['Date time'] = pd.to_datetime(df_aus_filter['Date time'])"
   ]
  },
  {
   "cell_type": "code",
   "execution_count": 43,
   "metadata": {},
   "outputs": [
    {
     "data": {
      "text/plain": [
       "Maximum Temperature           float64\n",
       "Wind Speed                    float64\n",
       "Relative Humidity             float64\n",
       "Conditions                     object\n",
       "Date time              datetime64[ns]\n",
       "dtype: object"
      ]
     },
     "execution_count": 43,
     "metadata": {},
     "output_type": "execute_result"
    }
   ],
   "source": [
    "df_aus_filter.dtypes"
   ]
  },
  {
   "cell_type": "markdown",
   "metadata": {},
   "source": [
    "Since most of the fire activity occurred after September/November, and the complete data takes time to load in this notebook, we will filter the data between Nov 1, 2019 to Jan 31, 2020"
   ]
  },
  {
   "cell_type": "code",
   "execution_count": 44,
   "metadata": {},
   "outputs": [
    {
     "data": {
      "text/html": [
       "<div>\n",
       "<style scoped>\n",
       "    .dataframe tbody tr th:only-of-type {\n",
       "        vertical-align: middle;\n",
       "    }\n",
       "\n",
       "    .dataframe tbody tr th {\n",
       "        vertical-align: top;\n",
       "    }\n",
       "\n",
       "    .dataframe thead th {\n",
       "        text-align: right;\n",
       "    }\n",
       "</style>\n",
       "<table border=\"1\" class=\"dataframe\">\n",
       "  <thead>\n",
       "    <tr style=\"text-align: right;\">\n",
       "      <th></th>\n",
       "      <th>Maximum Temperature</th>\n",
       "      <th>Wind Speed</th>\n",
       "      <th>Relative Humidity</th>\n",
       "      <th>Conditions</th>\n",
       "      <th>Date time</th>\n",
       "    </tr>\n",
       "  </thead>\n",
       "  <tbody>\n",
       "    <tr>\n",
       "      <th>18201</th>\n",
       "      <td>87.8</td>\n",
       "      <td>15.2</td>\n",
       "      <td>31.85</td>\n",
       "      <td>Clear</td>\n",
       "      <td>2019-11-01</td>\n",
       "    </tr>\n",
       "    <tr>\n",
       "      <th>18202</th>\n",
       "      <td>87.6</td>\n",
       "      <td>24.1</td>\n",
       "      <td>40.48</td>\n",
       "      <td>Clear</td>\n",
       "      <td>2019-11-02</td>\n",
       "    </tr>\n",
       "    <tr>\n",
       "      <th>18203</th>\n",
       "      <td>75.2</td>\n",
       "      <td>25.3</td>\n",
       "      <td>76.53</td>\n",
       "      <td>Rain, Partially cloudy</td>\n",
       "      <td>2019-11-03</td>\n",
       "    </tr>\n",
       "    <tr>\n",
       "      <th>18204</th>\n",
       "      <td>71.6</td>\n",
       "      <td>20.3</td>\n",
       "      <td>63.02</td>\n",
       "      <td>Rain, Partially cloudy</td>\n",
       "      <td>2019-11-04</td>\n",
       "    </tr>\n",
       "    <tr>\n",
       "      <th>18205</th>\n",
       "      <td>64.4</td>\n",
       "      <td>14.9</td>\n",
       "      <td>52.58</td>\n",
       "      <td>Partially cloudy</td>\n",
       "      <td>2019-11-05</td>\n",
       "    </tr>\n",
       "  </tbody>\n",
       "</table>\n",
       "</div>"
      ],
      "text/plain": [
       "       Maximum Temperature  Wind Speed  Relative Humidity  \\\n",
       "18201                 87.8        15.2              31.85   \n",
       "18202                 87.6        24.1              40.48   \n",
       "18203                 75.2        25.3              76.53   \n",
       "18204                 71.6        20.3              63.02   \n",
       "18205                 64.4        14.9              52.58   \n",
       "\n",
       "                   Conditions  Date time  \n",
       "18201                   Clear 2019-11-01  \n",
       "18202                   Clear 2019-11-02  \n",
       "18203  Rain, Partially cloudy 2019-11-03  \n",
       "18204  Rain, Partially cloudy 2019-11-04  \n",
       "18205        Partially cloudy 2019-11-05  "
      ]
     },
     "execution_count": 44,
     "metadata": {},
     "output_type": "execute_result"
    }
   ],
   "source": [
    "mask = (df_aus_filter['Date time'] >= '11/01/2019') & (df_aus_filter['Date time'] <= '01/31/2020')\n",
    "df  = df_aus_filter[mask]\n",
    "df.head()"
   ]
  },
  {
   "cell_type": "markdown",
   "metadata": {},
   "source": [
    "### Timeline of bushfire - barplot"
   ]
  },
  {
   "cell_type": "code",
   "execution_count": 48,
   "metadata": {},
   "outputs": [
    {
     "data": {
      "image/png": "[encoded data removed]",
      "text/plain": [
       "<Figure size 720x360 with 1 Axes>"
      ]
     },
     "metadata": {
      "needs_background": "light"
     },
     "output_type": "display_data"
    }
   ],
   "source": [
    "plt.figure(figsize=(10,5))\n",
    "sns.set_palette(\"pastel\")\n",
    "ax = sns.barplot(x=df['Date time'].dt.date,y=df['Maximum Temperature'])\n",
    "for ind, label in enumerate(ax.get_xticklabels()):\n",
    "    if ind % 10 == 0:  # every 10th label is kept\n",
    "        label.set_visible(True)\n",
    "    else:\n",
    "        label.set_visible(False)\n",
    "#ax.set_xticklabels(ax.get_xticklabels(), rotation=40, ha=\"right\")\n",
    "plt.xticks(rotation = 45)\n",
    "plt.xlabel(\"Date\")\n",
    "plt.ylabel('Temperature')\n",
    "plt.title(\"Temperature time line of Bushfire in Australia\")\n",
    "plt.tight_layout()"
   ]
  },
  {
   "cell_type": "markdown",
   "metadata": {},
   "source": [
    "We can see a big spike in Maximum Teperature  after Decemeber 31st when bushfires have become intense across australia.And also a big spike towards end of Jnauary"
   ]
  },
  {
   "cell_type": "markdown",
   "metadata": {},
   "source": [
    "Dates on which Bushfires were at a peak in Australia<br>\n",
    "<ol>4th January 2020.<br>\n",
    "30th January 2020."
   ]
  },
  {
   "cell_type": "code",
   "execution_count": null,
   "metadata": {},
   "outputs": [],
   "source": []
  }
 ],
 "metadata": {
  "kernelspec": {
   "display_name": "Python 3",
   "language": "python",
   "name": "python3"
  },
  "language_info": {
   "codemirror_mode": {
    "name": "ipython",
    "version": 3
   },
   "file_extension": ".py",
   "mimetype": "text/x-python",
   "name": "python",
   "nbconvert_exporter": "python",
   "pygments_lexer": "ipython3",
   "version": "3.7.3"
  }
 },
 "nbformat": 4,
 "nbformat_minor": 4
}
