{
 "cells": [
  {
   "cell_type": "markdown",
   "metadata": {},
   "source": [
    "# Australian Bushfire - Map analysis\n",
    "\n",
    "The Australian bushfire has led to a massive loss to wildlife, forest area and has even caused human casualties, including firefighters from the U.S. It has even affected the air quality in nearby cities such as Sydney and Melbourne. We will take a look at fire data obtained from NASA satellite's MODIS and VIIRS.\n",
    "\n",
    "What is covered - \n",
    "- Regions with Highest recorded fire radiation in a day\n",
    "- Dates on which bushfires were at a peak.\n",
    "- Timeline of bushfire - barplot\n",
    "- A heat map with time - for Australian bushfire\n",
    "- Canberra Fire over the last 10 days\n",
    "- Kangaroo island fire\n",
    "\n",
    "Note :\n",
    "- Also since the loading time could be high we will only consider data for the last 3 months - Nov 1, 2019 to Jan 31, 2020."
   ]
  },
  {
   "cell_type": "markdown",
   "metadata": {},
   "source": [
    "## Install dependencies and set file path"
   ]
  },
  {
   "cell_type": "markdown",
   "metadata": {},
   "source": [
    "Some [issues](https://github.com/python-visualization/folium/issues/812) with branca and folium HeatMapWithTime were resolved recenlty (by [destein](https://github.com/dstein64) and [sknzl](https://github.com/sknzl)),\n",
    "update them using the following - (keep internet option on in settings)"
   ]
  },
  {
   "cell_type": "code",
   "execution_count": null,
   "metadata": {
    "_kg_hide-output": true
   },
   "outputs": [],
   "source": [
    "!pip install git+https://github.com/python-visualization/branca\n",
    "!pip install git+https://github.com/sknzl/folium@update-css-url-to-https"
   ]
  },
  {
   "cell_type": "code",
   "execution_count": null,
   "metadata": {
    "_cell_guid": "b1076dfc-b9ad-4769-8c92-a6c4dae69d19",
    "_uuid": "8f2839f25d086af736a60e9eeb907d3b93b6e0e5"
   },
   "outputs": [],
   "source": [
    "#dependencies\n",
    "import numpy as np # linear algebra\n",
    "import pandas as pd # data processing, CSV file I/O (e.g. pd.read_csv)\n",
    "import matplotlib.pyplot as plt #plotting\n",
    "import seaborn as sns #for beatiful visualization\n",
    "import folium\n",
    "from folium import plugins\n",
    "\n",
    "#set file path\n",
    "import os\n",
    "for dirname, _, filenames in os.walk('/kaggle/input'):\n",
    "    for filename in filenames:\n",
    "        print(os.path.join(dirname, filename))\n"
   ]
  },
  {
   "cell_type": "code",
   "execution_count": null,
   "metadata": {
    "_kg_hide-input": true,
    "_kg_hide-output": true
   },
   "outputs": [],
   "source": [
    "folium.__version__"
   ]
  },
  {
   "cell_type": "code",
   "execution_count": null,
   "metadata": {
    "_kg_hide-input": true,
    "_kg_hide-output": true
   },
   "outputs": [],
   "source": [
    "folium.branca.__version__"
   ]
  },
  {
   "cell_type": "markdown",
   "metadata": {
    "_cell_guid": "79c7e3d0-c299-4dcb-8224-4455121ee9b0",
    "_uuid": "d629ff2d2480ee46fbb7e2d37f6b5fab8052498a",
    "collapsed": true
   },
   "source": [
    "## Load the data"
   ]
  },
  {
   "cell_type": "code",
   "execution_count": null,
   "metadata": {},
   "outputs": [],
   "source": [
    "fire_nrt_m6 = pd.read_csv(\"../input/australian-bush-fire-satellite-data-nasa/fire_nrt_M6_101673.csv\")\n",
    "fire_archive_m6 = pd.read_csv(\"../input/australian-bush-fire-satellite-data-nasa/fire_archive_M6_101673.csv\")\n",
    "fire_nrt_v1 = pd.read_csv(\"../input/australian-bush-fire-satellite-data-nasa/fire_nrt_V1_101674.csv\")\n",
    "fire_archive_v1 = pd.read_csv(\"../input/australian-bush-fire-satellite-data-nasa/fire_archive_V1_101674.csv\")\n",
    "\n",
    "type(fire_nrt_v1)"
   ]
  },
  {
   "cell_type": "markdown",
   "metadata": {},
   "source": [
    "Since VIIRS provides more spatial resolution(375m), We will be using VIIRS for further visualization and analysis."
   ]
  },
  {
   "cell_type": "markdown",
   "metadata": {},
   "source": [
    "## Merge archive and nrt data\n",
    "\n",
    "Archive data is between Sep 1,2019 to Dec 31,2019.\n",
    "Nrt is between jan 1,2020 to jan 31,2020.\n",
    "\n",
    "We will be merging both the data"
   ]
  },
  {
   "cell_type": "code",
   "execution_count": null,
   "metadata": {},
   "outputs": [],
   "source": [
    "df_merged = pd.concat([fire_archive_v1,fire_nrt_v1],sort=True)\n",
    "data = df_merged\n",
    "data.head()"
   ]
  },
  {
   "cell_type": "code",
   "execution_count": null,
   "metadata": {},
   "outputs": [],
   "source": [
    "data.info()"
   ]
  },
  {
   "cell_type": "markdown",
   "metadata": {},
   "source": [
    "We will be concentrating particularly on frp(Fire radiation power) which can detect bushfires"
   ]
  },
  {
   "cell_type": "markdown",
   "metadata": {},
   "source": [
    "## Filter the data\n",
    "We will consider only 4 fields - latitude, longitude,acq_date and frp (fire radiation power) for this analysis."
   ]
  },
  {
   "cell_type": "code",
   "execution_count": null,
   "metadata": {},
   "outputs": [],
   "source": [
    "df_filter = data.filter([\"latitude\",\"longitude\",\"acq_date\",\"frp\"])\n",
    "df_filter.head()"
   ]
  },
  {
   "cell_type": "markdown",
   "metadata": {},
   "source": [
    "- **Also since most of the fire activity occurred after September/November, and the complete data takes time to load in this notebook, we will filter the data between Nov 1, 2019 to Jan 31, 2020**"
   ]
  },
  {
   "cell_type": "code",
   "execution_count": null,
   "metadata": {},
   "outputs": [],
   "source": [
    "df = df_filter[df_filter['acq_date']>='2019-11-01']\n",
    "df.head()"
   ]
  },
  {
   "cell_type": "markdown",
   "metadata": {},
   "source": [
    "## Regions with Highest recorded fire radiation in a day"
   ]
  },
  {
   "cell_type": "code",
   "execution_count": null,
   "metadata": {},
   "outputs": [],
   "source": [
    "data_topaffected = df.sort_values(by='frp',ascending=False).head(10)\n",
    "data_topaffected"
   ]
  },
  {
   "cell_type": "markdown",
   "metadata": {},
   "source": [
    "By reverse geocoding we can obtain the locations(Mentioned in Conclusion at the end).\n",
    "\n",
    "**Below is the map marking the regions which were highest affected in a day**"
   ]
  },
  {
   "cell_type": "code",
   "execution_count": null,
   "metadata": {
    "_kg_hide-input": true
   },
   "outputs": [],
   "source": [
    "#Create a map\n",
    "m = folium.Map(location=[-35.0,144], control_scale=True, zoom_start=3,attr = \"text some\")\n",
    "df_copy = data_topaffected.copy()\n",
    "\n",
    "# loop through data to create Marker for each hospital\n",
    "for i in range(0,len(df_copy)):\n",
    "    \n",
    "    folium.Marker(\n",
    "    location=[df_copy.iloc[i]['latitude'], df_copy.iloc[i]['longitude']],\n",
    "    #popup=popup,\n",
    "    tooltip=\"frp: \" + str(df_copy.iloc[i]['frp']) + \"<br/> date: \"+ str(df_copy.iloc[i]['acq_date']),\n",
    "    icon=folium.Icon(color='red',icon='fire',prefix=\"fa\"),\n",
    "    ).add_to(m)\n",
    "        \n",
    "m\n"
   ]
  },
  {
   "cell_type": "markdown",
   "metadata": {},
   "source": [
    "## Dates on which bushfires were at peak"
   ]
  },
  {
   "cell_type": "code",
   "execution_count": null,
   "metadata": {},
   "outputs": [],
   "source": [
    "dfdate = df[['acq_date','frp']].set_index('acq_date')\n",
    "dfdate_highest = dfdate.groupby('acq_date').sum().sort_values(by='frp',ascending=False)\n",
    "dfdate_highest.head(10)"
   ]
  },
  {
   "cell_type": "markdown",
   "metadata": {},
   "source": [
    "## Timeline of bushfire - barplot"
   ]
  },
  {
   "cell_type": "markdown",
   "metadata": {},
   "source": [
    "- Note : this may take sometime to execute\n"
   ]
  },
  {
   "cell_type": "code",
   "execution_count": null,
   "metadata": {
    "_kg_hide-input": true
   },
   "outputs": [],
   "source": [
    "plt.figure(figsize=(10,5))\n",
    "sns.set_palette(\"pastel\")\n",
    "ax = sns.barplot(x='acq_date',y='frp',data=df)\n",
    "for ind, label in enumerate(ax.get_xticklabels()):\n",
    "    if ind % 10 == 0:  # every 10th label is kept\n",
    "        label.set_visible(True)\n",
    "    else:\n",
    "        label.set_visible(False)\n",
    "ax.set_xticklabels(ax.get_xticklabels(), rotation=40, ha=\"right\")\n",
    "plt.xlabel(\"Date\")\n",
    "plt.ylabel('FRP (fire radiation power)')\n",
    "plt.title(\"time line of bushfire in Australia\")\n",
    "plt.tight_layout()\n"
   ]
  },
  {
   "cell_type": "markdown",
   "metadata": {},
   "source": [
    "- The above barplot represents the progress of fire from Nov 1, 2019 to jan 31, 2020\n",
    "- You can notice three big spikes after 30th Dec, representing highest frp activity\n"
   ]
  },
  {
   "cell_type": "markdown",
   "metadata": {},
   "source": [
    "## Heat map with time - for Australian bushfire"
   ]
  },
  {
   "cell_type": "code",
   "execution_count": null,
   "metadata": {
    "_kg_hide-input": true
   },
   "outputs": [],
   "source": [
    "from folium.plugins import HeatMapWithTime\n",
    "# A small function to get heat map with time given the data\n",
    "\n",
    "def getmap(ip_data,location,zoom,radius):\n",
    "    \n",
    "    #get day list\n",
    "    dfmap = ip_data[['acq_date','latitude','longitude','frp']]\n",
    "    df_day_list = []\n",
    "    for day in dfmap.acq_date.sort_values().unique():\n",
    "        df_day_list.append(dfmap.loc[dfmap.acq_date == day, ['acq_date','latitude', 'longitude', 'frp']].groupby(['latitude', 'longitude']).sum().reset_index().values.tolist())\n",
    "    \n",
    "    # Create a map using folium\n",
    "    m = folium.Map(location, zoom_start=zoom,tiles='Stamen Terrain')\n",
    "    #creating heatmap with time\n",
    "    HeatMapWithTime(df_day_list,index =list(dfmap.acq_date.sort_values().unique()), auto_play=False,radius=radius, gradient={0.2: 'blue', 0.4: 'lime', 0.6: 'orange', 1: 'red'}, min_opacity=0.5, max_opacity=0.8, use_local_extrema=True).add_to(m)\n",
    "\n",
    "    return m\n",
    "getmap(df,[-27,132],3.5,3)\n"
   ]
  },
  {
   "cell_type": "markdown",
   "metadata": {},
   "source": [
    "- The above map gives heatmap with time\n",
    "- Play it at higher fps to increase speed"
   ]
  },
  {
   "cell_type": "markdown",
   "metadata": {},
   "source": [
    "## Canbbera Fire over last 10 days"
   ]
  },
  {
   "cell_type": "code",
   "execution_count": null,
   "metadata": {
    "_kg_hide-input": true
   },
   "outputs": [],
   "source": [
    "#df tail for the latest data\n",
    "df_10days = df.tail(21500)\n",
    "#Using getmap function to obtain map from above, location set to canberra\n",
    "getmap(df_10days,[-35.6,149.12],8,3)\n"
   ]
  },
  {
   "cell_type": "markdown",
   "metadata": {},
   "source": [
    " - You can see the red spot appearing in Canberra over last 4 days, indicating fire activity\n"
   ]
  },
  {
   "cell_type": "markdown",
   "metadata": {},
   "source": [
    "## Kangaroo Island fire"
   ]
  },
  {
   "cell_type": "code",
   "execution_count": null,
   "metadata": {
    "_kg_hide-input": true
   },
   "outputs": [],
   "source": [
    "#Using getmap function to obtain map from above, location set to kangaroo island\n",
    "getmap(df,[-36, 137.22],8.5,3)\n"
   ]
  },
  {
   "cell_type": "markdown",
   "metadata": {},
   "source": [
    "## Conclusion:\n",
    "- Dates on which Bushfires were at a peak in Australia - \n",
    "    - 4th January 2020.\n",
    "    - 30th december 2019.\n",
    "    - 8th January 2020. \n",
    "- Regions with highest recorded fire radiation power in a day -\n",
    "    1. Abbeyard, Victoria on 8th Jan.\n",
    "    2. Flinders chase in Kangaroo island on 8th Jan\n",
    "    3. Ravine road, flinders chase in Kangaroo Island\n",
    "    4. Cobberas, Victoria on 4th Jan\n",
    "    5. West bay road, Flinders chase in kangaroo island on 8th Jan.\n",
    "   \n",
    "- Observations from the map - \n",
    "   - Most of the fire activity in kangaroo island falls between 20th December to 10th January\n",
    "   - Fire activity near Capital Canberra has been observed from 25th January onwards\n",
    "****"
   ]
  }
 ],
 "metadata": {
  "kernelspec": {
   "display_name": "Python 3",
   "language": "python",
   "name": "python3"
  },
  "language_info": {
   "codemirror_mode": {
    "name": "ipython",
    "version": 3
   },
   "file_extension": ".py",
   "mimetype": "text/x-python",
   "name": "python",
   "nbconvert_exporter": "python",
   "pygments_lexer": "ipython3",
   "version": "3.7.3"
  }
 },
 "nbformat": 4,
 "nbformat_minor": 4
}
