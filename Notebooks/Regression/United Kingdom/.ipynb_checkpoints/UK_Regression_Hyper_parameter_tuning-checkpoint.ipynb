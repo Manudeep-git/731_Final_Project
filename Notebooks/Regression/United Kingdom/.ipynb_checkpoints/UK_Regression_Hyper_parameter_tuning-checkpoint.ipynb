{
 "cells": [
  {
   "cell_type": "code",
   "execution_count": 2,
   "metadata": {},
   "outputs": [],
   "source": [
    "import pandas as pd\n",
    "import numpy as np\n",
    "import seaborn as sns\n",
    "\n",
    "import matplotlib.pyplot as plt\n",
    "import warnings\n",
    "\n",
    "warnings.filterwarnings(\"ignore\")\n",
    "%matplotlib inline\n",
    "\n",
    "\n",
    "from math import sqrt\n",
    "from sklearn.neighbors import KNeighborsRegressor\n",
    "from sklearn.model_selection import cross_val_score\n",
    "from sklearn.metrics import accuracy_score\n",
    "from sklearn.metrics import mean_squared_error\n",
    "from sklearn.metrics import r2_score"
   ]
  },
  {
   "cell_type": "markdown",
   "metadata": {},
   "source": [
    "### Data"
   ]
  },
  {
   "cell_type": "code",
   "execution_count": 3,
   "metadata": {},
   "outputs": [
    {
     "data": {
      "text/html": [
       "<div>\n",
       "<style scoped>\n",
       "    .dataframe tbody tr th:only-of-type {\n",
       "        vertical-align: middle;\n",
       "    }\n",
       "\n",
       "    .dataframe tbody tr th {\n",
       "        vertical-align: top;\n",
       "    }\n",
       "\n",
       "    .dataframe thead th {\n",
       "        text-align: right;\n",
       "    }\n",
       "</style>\n",
       "<table border=\"1\" class=\"dataframe\">\n",
       "  <thead>\n",
       "    <tr style=\"text-align: right;\">\n",
       "      <th></th>\n",
       "      <th>Name</th>\n",
       "      <th>Date time</th>\n",
       "      <th>Maximum Temperature</th>\n",
       "      <th>Minimum Temperature</th>\n",
       "      <th>Temperature</th>\n",
       "      <th>Precipitation</th>\n",
       "      <th>Wind Speed</th>\n",
       "      <th>Visibility</th>\n",
       "      <th>Cloud Cover</th>\n",
       "      <th>Relative Humidity</th>\n",
       "      <th>Conditions</th>\n",
       "      <th>Clear</th>\n",
       "      <th>Overcast</th>\n",
       "      <th>Partially cloudy</th>\n",
       "      <th>Rain</th>\n",
       "      <th>Rain, Overcast</th>\n",
       "      <th>Rain, Partially cloudy</th>\n",
       "      <th>Snow</th>\n",
       "      <th>Snow, Overcast</th>\n",
       "      <th>Snow, Partially cloudy</th>\n",
       "    </tr>\n",
       "  </thead>\n",
       "  <tbody>\n",
       "    <tr>\n",
       "      <th>0</th>\n",
       "      <td>uk</td>\n",
       "      <td>01/01/1973</td>\n",
       "      <td>44.6</td>\n",
       "      <td>30.3</td>\n",
       "      <td>40.4</td>\n",
       "      <td>0.00</td>\n",
       "      <td>11.3</td>\n",
       "      <td>1.6</td>\n",
       "      <td>65.2</td>\n",
       "      <td>87.83</td>\n",
       "      <td>Partially cloudy</td>\n",
       "      <td>0</td>\n",
       "      <td>0</td>\n",
       "      <td>1</td>\n",
       "      <td>0</td>\n",
       "      <td>0</td>\n",
       "      <td>0</td>\n",
       "      <td>0</td>\n",
       "      <td>0</td>\n",
       "      <td>0</td>\n",
       "    </tr>\n",
       "    <tr>\n",
       "      <th>1</th>\n",
       "      <td>uk</td>\n",
       "      <td>01/02/1973</td>\n",
       "      <td>46.5</td>\n",
       "      <td>31.3</td>\n",
       "      <td>41.8</td>\n",
       "      <td>0.01</td>\n",
       "      <td>11.4</td>\n",
       "      <td>2.0</td>\n",
       "      <td>51.7</td>\n",
       "      <td>87.27</td>\n",
       "      <td>Rain, Partially cloudy</td>\n",
       "      <td>0</td>\n",
       "      <td>0</td>\n",
       "      <td>0</td>\n",
       "      <td>0</td>\n",
       "      <td>0</td>\n",
       "      <td>1</td>\n",
       "      <td>0</td>\n",
       "      <td>0</td>\n",
       "      <td>0</td>\n",
       "    </tr>\n",
       "    <tr>\n",
       "      <th>2</th>\n",
       "      <td>uk</td>\n",
       "      <td>01/03/1973</td>\n",
       "      <td>53.6</td>\n",
       "      <td>46.4</td>\n",
       "      <td>49.6</td>\n",
       "      <td>0.00</td>\n",
       "      <td>11.4</td>\n",
       "      <td>5.4</td>\n",
       "      <td>90.5</td>\n",
       "      <td>84.87</td>\n",
       "      <td>Overcast</td>\n",
       "      <td>0</td>\n",
       "      <td>1</td>\n",
       "      <td>0</td>\n",
       "      <td>0</td>\n",
       "      <td>0</td>\n",
       "      <td>0</td>\n",
       "      <td>0</td>\n",
       "      <td>0</td>\n",
       "      <td>0</td>\n",
       "    </tr>\n",
       "    <tr>\n",
       "      <th>3</th>\n",
       "      <td>uk</td>\n",
       "      <td>01/04/1973</td>\n",
       "      <td>51.9</td>\n",
       "      <td>45.7</td>\n",
       "      <td>50.4</td>\n",
       "      <td>0.00</td>\n",
       "      <td>5.6</td>\n",
       "      <td>1.3</td>\n",
       "      <td>97.5</td>\n",
       "      <td>90.75</td>\n",
       "      <td>Overcast</td>\n",
       "      <td>0</td>\n",
       "      <td>1</td>\n",
       "      <td>0</td>\n",
       "      <td>0</td>\n",
       "      <td>0</td>\n",
       "      <td>0</td>\n",
       "      <td>0</td>\n",
       "      <td>0</td>\n",
       "      <td>0</td>\n",
       "    </tr>\n",
       "    <tr>\n",
       "      <th>4</th>\n",
       "      <td>uk</td>\n",
       "      <td>01/05/1973</td>\n",
       "      <td>48.3</td>\n",
       "      <td>39.3</td>\n",
       "      <td>43.7</td>\n",
       "      <td>0.00</td>\n",
       "      <td>14.9</td>\n",
       "      <td>3.9</td>\n",
       "      <td>77.8</td>\n",
       "      <td>81.33</td>\n",
       "      <td>Overcast</td>\n",
       "      <td>0</td>\n",
       "      <td>1</td>\n",
       "      <td>0</td>\n",
       "      <td>0</td>\n",
       "      <td>0</td>\n",
       "      <td>0</td>\n",
       "      <td>0</td>\n",
       "      <td>0</td>\n",
       "      <td>0</td>\n",
       "    </tr>\n",
       "  </tbody>\n",
       "</table>\n",
       "</div>"
      ],
      "text/plain": [
       "  Name   Date time  Maximum Temperature  Minimum Temperature  Temperature  \\\n",
       "0   uk  01/01/1973                 44.6                 30.3         40.4   \n",
       "1   uk  01/02/1973                 46.5                 31.3         41.8   \n",
       "2   uk  01/03/1973                 53.6                 46.4         49.6   \n",
       "3   uk  01/04/1973                 51.9                 45.7         50.4   \n",
       "4   uk  01/05/1973                 48.3                 39.3         43.7   \n",
       "\n",
       "   Precipitation  Wind Speed  Visibility  Cloud Cover  Relative Humidity  \\\n",
       "0           0.00        11.3         1.6         65.2              87.83   \n",
       "1           0.01        11.4         2.0         51.7              87.27   \n",
       "2           0.00        11.4         5.4         90.5              84.87   \n",
       "3           0.00         5.6         1.3         97.5              90.75   \n",
       "4           0.00        14.9         3.9         77.8              81.33   \n",
       "\n",
       "               Conditions  Clear  Overcast  Partially cloudy  Rain  \\\n",
       "0        Partially cloudy      0         0                 1     0   \n",
       "1  Rain, Partially cloudy      0         0                 0     0   \n",
       "2                Overcast      0         1                 0     0   \n",
       "3                Overcast      0         1                 0     0   \n",
       "4                Overcast      0         1                 0     0   \n",
       "\n",
       "   Rain, Overcast  Rain, Partially cloudy  Snow  Snow, Overcast  \\\n",
       "0               0                       0     0               0   \n",
       "1               0                       1     0               0   \n",
       "2               0                       0     0               0   \n",
       "3               0                       0     0               0   \n",
       "4               0                       0     0               0   \n",
       "\n",
       "   Snow, Partially cloudy  \n",
       "0                       0  \n",
       "1                       0  \n",
       "2                       0  \n",
       "3                       0  \n",
       "4                       0  "
      ]
     },
     "execution_count": 3,
     "metadata": {},
     "output_type": "execute_result"
    }
   ],
   "source": [
    "df_UK = pd.read_csv(\"UK_cleaned.csv\")\n",
    "df_UK.drop(columns=['Unnamed: 0'],inplace=True)\n",
    "df_UK.head()"
   ]
  },
  {
   "cell_type": "code",
   "execution_count": 4,
   "metadata": {},
   "outputs": [
    {
     "data": {
      "text/plain": [
       "(17472, 20)"
      ]
     },
     "execution_count": 4,
     "metadata": {},
     "output_type": "execute_result"
    }
   ],
   "source": [
    "df_UK.shape"
   ]
  },
  {
   "cell_type": "markdown",
   "metadata": {},
   "source": [
    "## K-NN Regression for Temperature"
   ]
  },
  {
   "cell_type": "markdown",
   "metadata": {},
   "source": [
    "### Create Train and Test set"
   ]
  },
  {
   "cell_type": "code",
   "execution_count": 5,
   "metadata": {},
   "outputs": [],
   "source": [
    "#Considering Visibilty, Cloud Cover and Humidity\n",
    "X_temp=df_UK.drop(columns=['Maximum Temperature','Minimum Temperature','Temperature','Precipitation','Conditions',\n",
    "                            'Name','Date time','Wind Speed'],axis=1)\n",
    "Y_temp=df_UK.Temperature"
   ]
  },
  {
   "cell_type": "code",
   "execution_count": 6,
   "metadata": {},
   "outputs": [],
   "source": [
    "from sklearn.model_selection import train_test_split\n",
    "train_X_temp,test_X_temp,train_y_temp,test_y_temp = train_test_split(X_temp,Y_temp,test_size=0.4)"
   ]
  },
  {
   "cell_type": "code",
   "execution_count": 7,
   "metadata": {},
   "outputs": [
    {
     "data": {
      "text/html": [
       "<div>\n",
       "<style scoped>\n",
       "    .dataframe tbody tr th:only-of-type {\n",
       "        vertical-align: middle;\n",
       "    }\n",
       "\n",
       "    .dataframe tbody tr th {\n",
       "        vertical-align: top;\n",
       "    }\n",
       "\n",
       "    .dataframe thead th {\n",
       "        text-align: right;\n",
       "    }\n",
       "</style>\n",
       "<table border=\"1\" class=\"dataframe\">\n",
       "  <thead>\n",
       "    <tr style=\"text-align: right;\">\n",
       "      <th></th>\n",
       "      <th>Visibility</th>\n",
       "      <th>Cloud Cover</th>\n",
       "      <th>Relative Humidity</th>\n",
       "      <th>Clear</th>\n",
       "      <th>Overcast</th>\n",
       "      <th>Partially cloudy</th>\n",
       "      <th>Rain</th>\n",
       "      <th>Rain, Overcast</th>\n",
       "      <th>Rain, Partially cloudy</th>\n",
       "      <th>Snow</th>\n",
       "      <th>Snow, Overcast</th>\n",
       "      <th>Snow, Partially cloudy</th>\n",
       "    </tr>\n",
       "  </thead>\n",
       "  <tbody>\n",
       "    <tr>\n",
       "      <th>15897</th>\n",
       "      <td>24.5</td>\n",
       "      <td>0.3</td>\n",
       "      <td>69.48</td>\n",
       "      <td>0</td>\n",
       "      <td>0</td>\n",
       "      <td>0</td>\n",
       "      <td>1</td>\n",
       "      <td>0</td>\n",
       "      <td>0</td>\n",
       "      <td>0</td>\n",
       "      <td>0</td>\n",
       "      <td>0</td>\n",
       "    </tr>\n",
       "    <tr>\n",
       "      <th>15199</th>\n",
       "      <td>18.9</td>\n",
       "      <td>0.3</td>\n",
       "      <td>69.68</td>\n",
       "      <td>0</td>\n",
       "      <td>0</td>\n",
       "      <td>0</td>\n",
       "      <td>1</td>\n",
       "      <td>0</td>\n",
       "      <td>0</td>\n",
       "      <td>0</td>\n",
       "      <td>0</td>\n",
       "      <td>0</td>\n",
       "    </tr>\n",
       "    <tr>\n",
       "      <th>4632</th>\n",
       "      <td>12.7</td>\n",
       "      <td>46.7</td>\n",
       "      <td>62.03</td>\n",
       "      <td>0</td>\n",
       "      <td>0</td>\n",
       "      <td>1</td>\n",
       "      <td>0</td>\n",
       "      <td>0</td>\n",
       "      <td>0</td>\n",
       "      <td>0</td>\n",
       "      <td>0</td>\n",
       "      <td>0</td>\n",
       "    </tr>\n",
       "    <tr>\n",
       "      <th>5870</th>\n",
       "      <td>8.0</td>\n",
       "      <td>67.7</td>\n",
       "      <td>83.76</td>\n",
       "      <td>0</td>\n",
       "      <td>0</td>\n",
       "      <td>0</td>\n",
       "      <td>0</td>\n",
       "      <td>0</td>\n",
       "      <td>1</td>\n",
       "      <td>0</td>\n",
       "      <td>0</td>\n",
       "      <td>0</td>\n",
       "    </tr>\n",
       "    <tr>\n",
       "      <th>7429</th>\n",
       "      <td>26.9</td>\n",
       "      <td>17.0</td>\n",
       "      <td>58.52</td>\n",
       "      <td>1</td>\n",
       "      <td>0</td>\n",
       "      <td>0</td>\n",
       "      <td>0</td>\n",
       "      <td>0</td>\n",
       "      <td>0</td>\n",
       "      <td>0</td>\n",
       "      <td>0</td>\n",
       "      <td>0</td>\n",
       "    </tr>\n",
       "  </tbody>\n",
       "</table>\n",
       "</div>"
      ],
      "text/plain": [
       "       Visibility  Cloud Cover  Relative Humidity  Clear  Overcast  \\\n",
       "15897        24.5          0.3              69.48      0         0   \n",
       "15199        18.9          0.3              69.68      0         0   \n",
       "4632         12.7         46.7              62.03      0         0   \n",
       "5870          8.0         67.7              83.76      0         0   \n",
       "7429         26.9         17.0              58.52      1         0   \n",
       "\n",
       "       Partially cloudy  Rain  Rain, Overcast  Rain, Partially cloudy  Snow  \\\n",
       "15897                 0     1               0                       0     0   \n",
       "15199                 0     1               0                       0     0   \n",
       "4632                  1     0               0                       0     0   \n",
       "5870                  0     0               0                       1     0   \n",
       "7429                  0     0               0                       0     0   \n",
       "\n",
       "       Snow, Overcast  Snow, Partially cloudy  \n",
       "15897               0                       0  \n",
       "15199               0                       0  \n",
       "4632                0                       0  \n",
       "5870                0                       0  \n",
       "7429                0                       0  "
      ]
     },
     "execution_count": 7,
     "metadata": {},
     "output_type": "execute_result"
    }
   ],
   "source": [
    "train_X_temp.head()"
   ]
  },
  {
   "cell_type": "markdown",
   "metadata": {},
   "source": [
    "### Preprocessing – Scaling the features"
   ]
  },
  {
   "cell_type": "code",
   "execution_count": 9,
   "metadata": {},
   "outputs": [],
   "source": [
    "from sklearn.preprocessing import StandardScaler\n",
    "from sklearn.preprocessing import MinMaxScaler\n",
    "x_scaled= MinMaxScaler()\n",
    "train_X_temp[['Visibility','Relative Humidity']] = x_scaled.fit_transform(train_X_temp[['Visibility','Relative Humidity']])\n",
    "\n",
    "x_test_scaled= MinMaxScaler()\n",
    "test_X_temp[['Visibility','Relative Humidity']]=x_test_scaled.fit_transform(test_X_temp[['Visibility','Relative Humidity']])"
   ]
  },
  {
   "cell_type": "code",
   "execution_count": 10,
   "metadata": {},
   "outputs": [
    {
     "data": {
      "text/plain": [
       "(10483, 12)"
      ]
     },
     "execution_count": 10,
     "metadata": {},
     "output_type": "execute_result"
    }
   ],
   "source": [
    "train_X_temp.shape"
   ]
  },
  {
   "cell_type": "code",
   "execution_count": 11,
   "metadata": {},
   "outputs": [
    {
     "data": {
      "text/plain": [
       "(6989, 12)"
      ]
     },
     "execution_count": 11,
     "metadata": {},
     "output_type": "execute_result"
    }
   ],
   "source": [
    "test_X_temp.shape"
   ]
  },
  {
   "cell_type": "markdown",
   "metadata": {},
   "source": [
    "## Implementing RandomizedSearchCV"
   ]
  },
  {
   "cell_type": "markdown",
   "metadata": {},
   "source": [
    "### For Decision Tree"
   ]
  },
  {
   "cell_type": "code",
   "execution_count": 12,
   "metadata": {},
   "outputs": [
    {
     "name": "stdout",
     "output_type": "stream",
     "text": [
      "Best Hyper Parameters: {'min_samples_split': 5, 'min_samples_leaf': 4, 'max_features': 'sqrt', 'max_depth': 6}\n"
     ]
    }
   ],
   "source": [
    "#Note: Max_depth can be done\n",
    "from sklearn.tree import DecisionTreeRegressor\n",
    "from sklearn.model_selection import RandomizedSearchCV\n",
    "from sklearn.model_selection import GridSearchCV\n",
    "dc= DecisionTreeRegressor(random_state=1234)\n",
    "params = {'max_features': ['auto', 'sqrt', 'log2'],\n",
    "          'min_samples_split': [2,3,4,5,6,7,8,9,10,11,12,13,14,15], \n",
    "          'min_samples_leaf':[1,2,3,4,5,6,7,8,9,10,11],\n",
    "          'max_depth':[i for i in range(1,15)]}\n",
    "#Making models with hyper parameters sets\n",
    "dc = RandomizedSearchCV(dc, param_distributions=params,cv=10, n_jobs=-1)\n",
    "#Learning\n",
    "dc.fit(train_X_temp,train_y_temp)\n",
    "#The best hyper parameters set\n",
    "print(\"Best Hyper Parameters:\",dc.best_params_)"
   ]
  },
  {
   "cell_type": "markdown",
   "metadata": {},
   "source": [
    "### For Knn"
   ]
  },
  {
   "cell_type": "code",
   "execution_count": 13,
   "metadata": {},
   "outputs": [
    {
     "data": {
      "text/plain": [
       "{'weights': 'uniform',\n",
       " 'n_neighbors': 19,\n",
       " 'n_jobs': -1,\n",
       " 'leaf_size': 1,\n",
       " 'algorithm': 'auto'}"
      ]
     },
     "execution_count": 13,
     "metadata": {},
     "output_type": "execute_result"
    }
   ],
   "source": [
    "from sklearn.model_selection import GridSearchCV\n",
    "from sklearn.model_selection import RandomizedSearchCV\n",
    "knn = KNeighborsRegressor()\n",
    "params = {'n_neighbors':[i for i in range(5,20)],\n",
    "         'leaf_size':[1,2,3,5],\n",
    "          'weights':['uniform', 'distance'],\n",
    "          'algorithm':['auto', 'ball_tree','kd_tree','brute'],\n",
    "          'n_jobs':[-1]}\n",
    "\n",
    "\n",
    "knn = RandomizedSearchCV(knn,param_distributions=params,cv=10)\n",
    "knn.fit(train_X_temp,train_y_temp)\n",
    "knn.best_params_"
   ]
  },
  {
   "cell_type": "markdown",
   "metadata": {},
   "source": [
    "### For SVM"
   ]
  },
  {
   "cell_type": "code",
   "execution_count": 14,
   "metadata": {},
   "outputs": [
    {
     "name": "stdout",
     "output_type": "stream",
     "text": [
      "Best Hyper Parameters:\n",
      " {'kernel': 'rbf', 'C': 11}\n"
     ]
    }
   ],
   "source": [
    "from sklearn import svm\n",
    "#making the instance\n",
    "svm_r=svm.SVR()\n",
    "#Hyper Parameters Set\n",
    "params = {'C': [6,7,8,9,10,11,12], \n",
    "          'kernel': ['linear','rbf']}\n",
    "#Making models with hyper parameters sets\n",
    "svm_r = RandomizedSearchCV(svm_r, param_distributions=params,cv=10, n_jobs=-1)\n",
    "#Learning\n",
    "svm_r.fit(train_X_temp,train_y_temp)\n",
    "#The best hyper parameters set\n",
    "print(\"Best Hyper Parameters:\\n\",svm_r.best_params_)"
   ]
  },
  {
   "cell_type": "code",
   "execution_count": null,
   "metadata": {},
   "outputs": [],
   "source": [
    "#Todo: Tuning For XGBoost"
   ]
  }
 ],
 "metadata": {
  "kernelspec": {
   "display_name": "Python 3",
   "language": "python",
   "name": "python3"
  },
  "language_info": {
   "codemirror_mode": {
    "name": "ipython",
    "version": 3
   },
   "file_extension": ".py",
   "mimetype": "text/x-python",
   "name": "python",
   "nbconvert_exporter": "python",
   "pygments_lexer": "ipython3",
   "version": "3.7.3"
  }
 },
 "nbformat": 4,
 "nbformat_minor": 4
}
